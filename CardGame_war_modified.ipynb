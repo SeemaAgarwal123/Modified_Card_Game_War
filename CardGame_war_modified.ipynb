{
 "cells": [
  {
   "cell_type": "markdown",
   "metadata": {},
   "source": [
    "## Exercise 1"
   ]
  },
  {
   "cell_type": "markdown",
   "metadata": {},
   "source": [
    "### Exercise 1.1"
   ]
  },
  {
   "cell_type": "code",
   "execution_count": 1,
   "metadata": {},
   "outputs": [
    {
     "name": "stdout",
     "output_type": "stream",
     "text": [
      "[1, 2, 3, 4, 5, 6, 7, 8, 9, 10, 11, 12, 13, 1, 2, 3, 4, 5, 6, 7, 8, 9, 10, 11, 12, 13, 1, 2, 3, 4, 5, 6, 7, 8, 9, 10, 11, 12, 13, 1, 2, 3, 4, 5, 6, 7, 8, 9, 10, 11, 12, 13]\n"
     ]
    }
   ],
   "source": [
    "deckcards=[j for i in range(1,5) for j in range(1,14)]      #generating the deck of cards using list comprehension \n",
    "print(deckcards)"
   ]
  },
  {
   "cell_type": "markdown",
   "metadata": {},
   "source": [
    "### Exercise 1.2"
   ]
  },
  {
   "cell_type": "code",
   "execution_count": 2,
   "metadata": {},
   "outputs": [
    {
     "name": "stdout",
     "output_type": "stream",
     "text": [
      "Total value associated with a full deck of cards: 364\n"
     ]
    }
   ],
   "source": [
    "total=sum(deckcards)                                                        #sum of the list deckcards\n",
    "print(\"Total value associated with a full deck of cards:\",total)\n"
   ]
  },
  {
   "cell_type": "markdown",
   "metadata": {},
   "source": [
    "## Exercise 2"
   ]
  },
  {
   "cell_type": "markdown",
   "metadata": {},
   "source": [
    "### Exercise 2.1"
   ]
  },
  {
   "cell_type": "code",
   "execution_count": 3,
   "metadata": {},
   "outputs": [
    {
     "name": "stdout",
     "output_type": "stream",
     "text": [
      "Deck of cards after shuffle [12, 13, 2, 8, 8, 9, 11, 4, 3, 6, 9, 13, 11, 7, 3, 12, 13, 11, 5, 7, 2, 8, 3, 4, 7, 6, 2, 8, 6, 1, 4, 13, 4, 5, 11, 3, 7, 10, 1, 10, 5, 2, 12, 9, 5, 1, 1, 10, 12, 10, 9, 6]\n",
      "player1:  [12, 2, 8, 11, 3, 9, 11, 3, 13, 5, 2, 3, 7, 2, 6, 4, 4, 11, 7, 1, 5, 12, 5, 1, 12, 9]\n",
      "player2:  [13, 8, 9, 4, 6, 13, 7, 12, 11, 7, 8, 4, 6, 8, 1, 13, 5, 3, 10, 10, 2, 9, 1, 10, 10, 6]\n",
      "Hand of players: ([12, 2, 8, 11, 3, 9, 11, 3, 13, 5, 2, 3, 7, 2, 6, 4, 4, 11, 7, 1, 5, 12, 5, 1, 12, 9], [13, 8, 9, 4, 6, 13, 7, 12, 11, 7, 8, 4, 6, 8, 1, 13, 5, 3, 10, 10, 2, 9, 1, 10, 10, 6])\n"
     ]
    },
    {
     "data": {
      "text/plain": [
       "([12,\n",
       "  2,\n",
       "  8,\n",
       "  11,\n",
       "  3,\n",
       "  9,\n",
       "  11,\n",
       "  3,\n",
       "  13,\n",
       "  5,\n",
       "  2,\n",
       "  3,\n",
       "  7,\n",
       "  2,\n",
       "  6,\n",
       "  4,\n",
       "  4,\n",
       "  11,\n",
       "  7,\n",
       "  1,\n",
       "  5,\n",
       "  12,\n",
       "  5,\n",
       "  1,\n",
       "  12,\n",
       "  9],\n",
       " [13,\n",
       "  8,\n",
       "  9,\n",
       "  4,\n",
       "  6,\n",
       "  13,\n",
       "  7,\n",
       "  12,\n",
       "  11,\n",
       "  7,\n",
       "  8,\n",
       "  4,\n",
       "  6,\n",
       "  8,\n",
       "  1,\n",
       "  13,\n",
       "  5,\n",
       "  3,\n",
       "  10,\n",
       "  10,\n",
       "  2,\n",
       "  9,\n",
       "  1,\n",
       "  10,\n",
       "  10,\n",
       "  6])"
      ]
     },
     "execution_count": 3,
     "metadata": {},
     "output_type": "execute_result"
    }
   ],
   "source": [
    "import numpy as np                                           #import numpy\n",
    "cards=[]\n",
    "player1=[]                                                  # initialize list of cards for player1\n",
    "player2=[]                                                  # initialize list of cards for player1\n",
    "i=0\n",
    "def deal():                                                  # defining the function deal\n",
    "    global cards,i\n",
    "    global player1\n",
    "    global player2\n",
    "    cards=[j for i in range(1,5) for j in range(1,14)]       # generating the deck of cards using list comprehension \n",
    "    np.random.shuffle(cards)                                 # using np.random.shuffle to shuffle the cards \n",
    "    while i <len(cards):                                        # using while loop to iterate through cards list\n",
    "        player1.append(cards[i])                                # handing out cards to players alternately \n",
    "        if (i+1<len(cards)):\n",
    "            player2.append(cards[i+1])  \n",
    "        i=i+2\n",
    "    hand=(player1,player2)\n",
    "    print(\"Deck of cards after shuffle\",cards)\n",
    "    print(\"player1: \",player1)\n",
    "    print(\"player2: \",player2)\n",
    "    print(\"Hand of players:\",hand)\n",
    "    return hand\n",
    "deal()                                                       # calling the function deal"
   ]
  },
  {
   "cell_type": "markdown",
   "metadata": {},
   "source": [
    "### Exercise 2.2"
   ]
  },
  {
   "cell_type": "code",
   "execution_count": 4,
   "metadata": {},
   "outputs": [
    {
     "name": "stdout",
     "output_type": "stream",
     "text": [
      "Values using distributing alternate cards to player1 and player2\n",
      "Total number of cards with Player1:  26\n",
      "Total number of cards with Player2:  26\n",
      "Cards with player1:  [12, 2, 8, 11, 3, 9, 11, 3, 13, 5, 2, 3, 7, 2, 6, 4, 4, 11, 7, 1, 5, 12, 5, 1, 12, 9]\n",
      "Cards with player2:  [13, 8, 9, 4, 6, 13, 7, 12, 11, 7, 8, 4, 6, 8, 1, 13, 5, 3, 10, 10, 2, 9, 1, 10, 10, 6]\n",
      "Total value of cards of Player1:  168\n",
      "Total value of cards of Player2:  196\n",
      "\n",
      "Values using alternate method of distributing first 26 cards to player1 and other 26 to player2\n",
      "Total number of cards with Player1:  26\n",
      "Total number of cards with Player2:  26\n",
      "Cards with player1:  [12, 13, 2, 8, 8, 9, 11, 4, 3, 6, 9, 13, 11, 7, 3, 12, 13, 11, 5, 7, 2, 8, 3, 4, 7, 6]\n",
      "Cards with player2:  [2, 8, 6, 1, 4, 13, 4, 5, 11, 3, 7, 10, 1, 10, 5, 2, 12, 9, 5, 1, 1, 10, 12, 10, 9, 6]\n",
      "Total value of cards of Player1:  197\n",
      "Total value of cards of Player2:  167\n"
     ]
    }
   ],
   "source": [
    "\n",
    "#alternate method providing first 26 cards to player1 and other 26 to player2\n",
    "player1_alt=cards[:26]\n",
    "player2_alt=cards[26:]\n",
    "\n",
    "\n",
    "print(\"Values using distributing alternate cards to player1 and player2\")\n",
    "print(\"Total number of cards with Player1: \",len(player1))\n",
    "print(\"Total number of cards with Player2: \",len(player2))\n",
    "print(\"Cards with player1: \",player1)\n",
    "print(\"Cards with player2: \",player2)\n",
    "print(\"Total value of cards of Player1: \",sum(player1))\n",
    "print(\"Total value of cards of Player2: \",sum(player2))\n",
    "print()\n",
    "print(\"Values using alternate method of distributing first 26 cards to player1 and other 26 to player2\")\n",
    "print(\"Total number of cards with Player1: \",len(player1_alt))\n",
    "print(\"Total number of cards with Player2: \",len(player2_alt))\n",
    "print(\"Cards with player1: \",player1_alt)\n",
    "print(\"Cards with player2: \",player2_alt)\n",
    "print(\"Total value of cards of Player1: \",sum(player1_alt))\n",
    "print(\"Total value of cards of Player2: \",sum(player2_alt))\n",
    "\n"
   ]
  },
  {
   "cell_type": "markdown",
   "metadata": {},
   "source": [
    "## Exercise 3"
   ]
  },
  {
   "cell_type": "markdown",
   "metadata": {},
   "source": [
    "### Exercise 3.1"
   ]
  },
  {
   "cell_type": "markdown",
   "metadata": {},
   "source": [
    "1. Shuffle deck\n",
    "2. Deal half of deck to each player. Each player has a discardpile.\n",
    "3. Each player plays two card at a time.\n",
    "4. The player with higher sum of the two cards put all four cards (two of opponent and two of player) in his/her discardpile.\n",
    "4. If there is a tie (sum of two cards is equal for both players) then, both players play next two cards.\n",
    "5. Now, when sum of cards played by one player (along with the tie cards) is greater than the other players sum, the player        with greater sum put all the cards (his and opponents) in his/her discardpile. \n",
    "6. If the deck is exhausted in the middle of a tie then put all the tied cards of the respective players in their respective      discardpiles.\n",
    "7. Game terminates after a maximum of 13 rounds (occurs when there are no ties) and the deck is exhausted.\n",
    "8. The player with the highest total card points (in their discard pile) wins the game."
   ]
  },
  {
   "cell_type": "markdown",
   "metadata": {},
   "source": [
    "### Exercise 3.2"
   ]
  },
  {
   "cell_type": "code",
   "execution_count": 5,
   "metadata": {},
   "outputs": [],
   "source": [
    "discardpile1=[]                                          # initialize list of discardpile1 for player1\n",
    "discardpile2=[]                                          # initialize list of discardpile2 for player2\n",
    "\n",
    "def play():                                              # define the function play\n",
    "    i=0    \n",
    "\n",
    "    while i<len(player1):                                # using while loop to iterate through players cards\n",
    "        sum1=0                                           # initialize sum1 to 0, sum1 is sum of 2 cards played by player1\n",
    "        sum2=0                                           # initialize sum2 to 0, sum1 is sum of 2 cards played by player2\n",
    "        p1=[]                                            # initialize p1 i.e cards played by player1 \n",
    "        p2=[]                                            # initialize p2 i.e cards played by player2\n",
    "        p1.append(player1[i])                            # append cards to both lists\n",
    "        p1.append(player1[i+1])\n",
    "        p2.append(player2[i])\n",
    "        p2.append(player2[i+1])\n",
    "        sum1=sum(p1)                                        #sum to find which player has greater sum of cards\n",
    "        sum2=sum(p2)\n",
    "        if(sum1>sum2):                                      # check if sum1 is greater than sum2\n",
    "            discardpile1.extend(p1)                         # add cards to discardpile of player1\n",
    "            discardpile1.extend(p2)\n",
    "            p1=[]                                           #empty p1 and p2\n",
    "            p2=[]\n",
    "            i=i+2                                           #increment i by 2\n",
    "        elif(sum2>sum1):                                    # check if sum2 is greater than sum1\n",
    "            discardpile2.extend(p1)                         # add cards to discardpile of player2\n",
    "            discardpile2.extend(p2)\n",
    "            p1=[]                                           # empty p1 and p2\n",
    "            p2=[] \n",
    "            i=i+2                                           # increment i by 2 \n",
    "        elif(sum1==sum2):                                   # else if sum1 is equal to sum2\n",
    "            while(sum1==sum2 and i+2<len(player1)):         # while loop with condition the player have cards and sum is equal for both players       \n",
    "                i=i+2                                       # increment i by 2        \n",
    "                p1.append(player1[i])                       # append and store respective players cards in two list until tie breaks or players cards exhaust \n",
    "                p1.append(player1[i+1])\n",
    "                p2.append(player2[i])\n",
    "                p2.append(player2[i+1])\n",
    "                sum1=sum1+sum(p1)                           # add sum of new cards to existing sum1\n",
    "                sum2=sum2+sum(p2)                           # add sum of new cards to existing sum2\n",
    "            i=i+2                                            # increment i by 2                          \n",
    "            if(sum1>sum2):                                   # check if player1 has greater final score with respect to player2, player1 won the round    \n",
    "                discardpile1.extend(p1)                      # empty p1 list to discardpile of player1\n",
    "                discardpile1.extend(p2)                      # empty p2 list to discardpile of player1\n",
    "                p1=[]                                         # empty p1 and p2\n",
    "                p2=[]\n",
    "            else:\n",
    "                discardpile2.extend(p1)\n",
    "                discardpile2.extend(p2)\n",
    "                p1=[]\n",
    "                p2=[]\n",
    "    #print(\"final discardpile 1\",discardpile1)\n",
    "    #print(\"final discardpile 1\",discardpile2)\n",
    "    score1=sum(discardpile1)\n",
    "    score2=sum(discardpile2)\n",
    "    winner_Score=0\n",
    "    winner=\"\"\n",
    "    loser_Score=0\n",
    "    if(score1>score2):                                    # if final score of player1 is greater than that of player2, player1 is winner\n",
    "        winner=\"Winner is Player1\"\n",
    "        print(winner)         \n",
    "        print(\"Winner score: \",score1)\n",
    "        winner_Score=score1\n",
    "        print(\"Loser score: \",score2)\n",
    "        loser_Score=score2\n",
    "    elif(score2>score1):                                  # if final score of player2 is greater than that of player1, player2 is winner\n",
    "        winner=\"Winner is Player 2\"\n",
    "        print(winner)\n",
    "        print(\"Winner score: \",score2)\n",
    "        winner_Score=score2\n",
    "        print(\"Loser score: \",score1)\n",
    "        loser_Score=score1\n",
    "    else:                                                 # if final score of player 1 is equal to that of player2, there is a tie\n",
    "        winner=\"There is a tie\"\n",
    "        print(winner)\n",
    "        print(\"Tie score: \",score2)  \n",
    "    \n",
    "    return winner, winner_Score, loser_Score\n",
    "\n",
    "\n"
   ]
  },
  {
   "cell_type": "markdown",
   "metadata": {},
   "source": [
    "### Exercise 3.3"
   ]
  },
  {
   "cell_type": "code",
   "execution_count": 6,
   "metadata": {},
   "outputs": [
    {
     "name": "stdout",
     "output_type": "stream",
     "text": [
      "Winner is Player 2\n",
      "Winner score:  244\n",
      "Loser score:  120\n"
     ]
    },
    {
     "data": {
      "text/plain": [
       "('Winner is Player 2', 244, 120)"
      ]
     },
     "execution_count": 6,
     "metadata": {},
     "output_type": "execute_result"
    }
   ],
   "source": [
    "play()"
   ]
  },
  {
   "cell_type": "markdown",
   "metadata": {},
   "source": [
    "### Exercise 4.1"
   ]
  },
  {
   "cell_type": "code",
   "execution_count": 7,
   "metadata": {},
   "outputs": [
    {
     "name": "stdout",
     "output_type": "stream",
     "text": [
      "Winning scores:  [219, 193, 203, 207, 183, 214, 189, 291, 203, 239, 203, 188, 188, 215, 267, 232, 284, 252, 255, 209]\n",
      "Losing scores:  [145, 171, 161, 157, 181, 150, 175, 73, 161, 125, 161, 176, 176, 149, 97, 132, 80, 112, 109, 155]\n",
      "The min, mean and max of winning totals is 183 , 221.7 , 291 respectively\n",
      "The min, mean and max of losing totals is 73 , 142.3 , 181 respectively\n"
     ]
    }
   ],
   "source": [
    "import statistics \n",
    "initial_total1=[]                                                 # list of initial totals of player1\n",
    "initial_total2=[]                                                 # list of initial totals of player2\n",
    "win_player1=[0 for i in range(20)]                                # list to determine which matches were won by player1\n",
    "win_player2=[0 for i in range(20)]                                # list to determine which matches were won by player2\n",
    "win=[]                                                            # final scores of winner of a game\n",
    "lose=[]                                                           # final score of loser of a game\n",
    "\n",
    "def play():\n",
    "    j=0\n",
    "    while j<20:                                                    # iterate for 20 games\n",
    "        cards=[j for i in range(1,5) for j in range(1,14)]         # deck of cards using list comprehension\n",
    "        np.random.shuffle(cards)                                   # shuffle the deck of cards\n",
    "        player1=[]\n",
    "        player2=[]\n",
    "        k=0\n",
    "        while k <len(cards):        \n",
    "            player1.append(cards[k])                              # distribute cards to the players alternatively\n",
    "            if (k+1<len(cards)):\n",
    "                 player2.append(cards[k+1])  \n",
    "            k=k+2\n",
    "        initial_total1.append(sum(player1))\n",
    "        initial_total2.append(sum(player2))\n",
    "        discardpile1=[]\n",
    "        discardpile2=[]\n",
    "        i=0\n",
    "        while i<len(player1):                                 # using while loop to iterate through players cards\n",
    "            sum1=0                                            # initialize sum1 to 0, sum1 is sum of 2 cards played by player1\n",
    "            sum2=0\n",
    "            p1=[]                                             # initialize p1 i.e cards played by player1 \n",
    "            p2=[]\n",
    "            p1.append(player1[i])\n",
    "            p1.append(player1[i+1])\n",
    "            p2.append(player2[i])\n",
    "            p2.append(player2[i+1])\n",
    "            sum1=sum(p1)                                        #sum to find which player has greater sum of cards\n",
    "            sum2=sum(p2)\n",
    "            if(sum1>sum2):\n",
    "                discardpile1.extend(p1)\n",
    "                discardpile1.extend(p2)\n",
    "                p1=[]\n",
    "                p2=[]\n",
    "                i=i+2\n",
    "            elif(sum2>sum1):\n",
    "                discardpile2.extend(p1)\n",
    "                discardpile2.extend(p2)\n",
    "                p1=[]\n",
    "                p2=[]\n",
    "                i=i+2\n",
    "            elif(sum1==sum2):\n",
    "                while(sum1==sum2 and i+2<len(player1)):\n",
    "                    i=i+2\n",
    "                    p1.append(player1[i])\n",
    "                    p1.append(player1[i+1])\n",
    "                    p2.append(player2[i])\n",
    "                    p2.append(player2[i+1])\n",
    "                    sum1=sum1+sum(p1)                                   # add sum of new cards to existing sum1\n",
    "                    sum2=sum2+sum(p2)\n",
    "                i=i+2\n",
    "                if(sum1>sum2):                                           # check if player1 has greater final score with respect to player2, player1 won the round    \n",
    "                    discardpile1.extend(p1)\n",
    "                    discardpile1.extend(p2)\n",
    "                    p1=[]\n",
    "                    p2=[]\n",
    "                else:\n",
    "                    discardpile2.extend(p1)\n",
    "                    discardpile2.extend(p2)\n",
    "                    p1=[]\n",
    "                    p2=[]\n",
    "        score1=sum(discardpile1)\n",
    "        score2=sum(discardpile2)\n",
    "                    \n",
    "        if(score1>score2):\n",
    "            win.append(score1)\n",
    "            win_player1[j]=1\n",
    "            lose.append(score2)\n",
    "        elif(score2>score1):\n",
    "            win.append(score2)\n",
    "            win_player2[j]=1\n",
    "            lose.append(score1)\n",
    "          \n",
    "\n",
    "      \n",
    "        j=j+1\n",
    "    print(\"Winning scores: \",win)\n",
    "    print(\"Losing scores: \",lose)\n",
    "    \n",
    "play()\n",
    "\n",
    "min_of_win=min(win)\n",
    "mean_of_win=statistics.mean(win)\n",
    "max_of_win=max(win)\n",
    "min_of_lose=min(lose)\n",
    "mean_of_lose=statistics.mean(lose)\n",
    "max_of_lose=max(lose)\n",
    "\n",
    "print(\"The min, mean and max of winning totals is\",min_of_win,\",\",mean_of_win,\",\", max_of_win,\"respectively\")\n",
    "print(\"The min, mean and max of losing totals is\",min_of_lose,\",\",mean_of_lose, \",\",max_of_lose,\"respectively\")\n"
   ]
  },
  {
   "cell_type": "markdown",
   "metadata": {},
   "source": [
    "#### The mean of winning totals is greater than the mean of losing totals. The minimum of the winning totals is greater than the maximum of losing totals. The sum of winning and losing totals for each game remain constant i.e 364"
   ]
  },
  {
   "cell_type": "markdown",
   "metadata": {},
   "source": [
    "### Exercise 4.2"
   ]
  },
  {
   "cell_type": "code",
   "execution_count": 8,
   "metadata": {},
   "outputs": [
    {
     "name": "stdout",
     "output_type": "stream",
     "text": [
      "Total wins with initial low scores 6\n",
      "Proportion of total wins with initial low scores 0.3\n",
      "Total loses with initial high scores 6\n",
      "Proportion of total loses with initial high scores 0.3\n",
      "lowest initial total to win a game 158\n",
      "highest initial total to lose a game 206\n"
     ]
    }
   ],
   "source": [
    "win_initial_low=[]                                          # initial total of players that win game with low initial score\n",
    "total_intial_low_win=0                                      # total players that win game with low initial score\n",
    "total_intial_high_lose=0                                    # total players that lose game with high initial score\n",
    "lose_initial_high=[]                                        # initial total of players that lose game with high initial score\n",
    "for index in range(len(initial_total1)):                    # for loop to iterate through the initial totals list\n",
    "    if(initial_total1[index]<initial_total2[index]):        # check if initial total of player 1 is less than that of player 2\n",
    "        if(win_player1[index]==1):                          # if player1 won with low initial score increment total_intial_low_win\n",
    "            total_intial_low_win=total_intial_low_win+1\n",
    "            win_initial_low.append(initial_total1[index])\n",
    "        if(win_player2[index]==0):                          # if player2 lose with high initial score increment total_intial_high_lose\n",
    "            total_intial_high_lose=total_intial_high_lose+1\n",
    "            lose_initial_high.append(initial_total1[index])\n",
    "    elif(initial_total2[index]<initial_total1[index]):      # check if initial total of player 2 is less than that of player 1\n",
    "        if(win_player2[index]==1):                          # if player2 won with low initial score increment total_intial_low_win\n",
    "            total_intial_low_win=total_intial_low_win+1\n",
    "            win_initial_low.append(initial_total2[index])\n",
    "        if(win_player1[index]==0):                          # if player1 lose with high initial score increment total_intial_high_lose\n",
    "            total_intial_high_lose=total_intial_high_lose+1\n",
    "            lose_initial_high.append(initial_total1[index])\n",
    "print(\"Total wins with initial low scores\",total_intial_low_win)  \n",
    "proportion_initial_low_wins=total_intial_low_win/len(win)            # proportion of wins with low initial scores\n",
    "print(\"Proportion of total wins with initial low scores\",proportion_initial_low_wins)\n",
    "print(\"Total loses with initial high scores\",total_intial_high_lose)  \n",
    "proportion_initial_high_lose=total_intial_high_lose/len(win)          # proportion of lose with high initial scores\n",
    "print(\"Proportion of total loses with initial high scores\",proportion_initial_high_lose)\n",
    "print(\"lowest initial total to win a game\",min(win_initial_low))\n",
    "print(\"highest initial total to lose a game\",max(lose_initial_high))"
   ]
  },
  {
   "cell_type": "markdown",
   "metadata": {},
   "source": [
    "### Exercise 4.3"
   ]
  },
  {
   "cell_type": "code",
   "execution_count": 9,
   "metadata": {},
   "outputs": [
    {
     "name": "stdout",
     "output_type": "stream",
     "text": [
      "Correlation between initial total of winners and final total of winners\n",
      "[[1.         0.66374778]\n",
      " [0.66374778 1.        ]]\n",
      "Correlation between initial total of losers and final total of losers\n",
      "[[1.         0.66374778]\n",
      " [0.66374778 1.        ]]\n"
     ]
    }
   ],
   "source": [
    "import numpy as np\n",
    "initial_total_of_winners=[]                          # list of initial totals of winners \n",
    "initial_total_of_losers=[]                           # list of initial totals of losers\n",
    "final_total_of_winners=[]                            # list of final totals of winners\n",
    "final_total_of_losers=[]                             # list of final totals of losers\n",
    "for i in range(len(initial_total1)):\n",
    "    if(win_player1[i]==1):                                               # games which player1 wins\n",
    "        initial_total_of_winners.append(initial_total1[i])               # append initial total of player 1 for this game to list of initial total of winners        \n",
    "        final_total_of_winners.append(win[i])                            # append final total of player 1 for this game to list of final total of winners\n",
    "        initial_total_of_losers.append(initial_total2[i])                # append initial total of player 2 for this game to list of initial total of losers\n",
    "        final_total_of_losers.append(lose[i])                            # append final total of player 2 for this game to list of final total of losers\n",
    "    elif((win_player2[i]==1)):                                            # games which player2 wins\n",
    "        initial_total_of_winners.append(initial_total2[i])                # append initial total of player 2 for this game to list of initial total of winners\n",
    "        final_total_of_winners.append(win[i])                             # append final total of player 2 for this game to list of final total of winners\n",
    "        initial_total_of_losers.append(initial_total1[i])                 # append initial total of player 1 for this game to list of initial total of losers\n",
    "        final_total_of_losers.append(lose[i])                             # append final total of player 1 for this game to list of final total of losers\n",
    "        \n",
    "#print(initial_total_of_winners)\n",
    "#print(initial_total_of_losers)\n",
    "#print(final_total_of_winners)\n",
    "#print(final_total_of_losers)\n",
    "np_initial_total_of_winners=np.asarray(initial_total_of_winners)          # convert all 4 list to numpy array\n",
    "np_initial_total_of_losers=np.asarray(initial_total_of_losers)\n",
    "np_final_total_of_winners=np.asarray(final_total_of_winners)\n",
    "np_final_total_of_losers=np.asarray(final_total_of_losers)\n",
    "\n",
    "correlation1=np.corrcoef(np_initial_total_of_winners,np_final_total_of_winners)  # correlation between initial total of winners and final total of winners\n",
    "correlation2=np.corrcoef(initial_total_of_losers,final_total_of_losers)          # correlation between initial total of losers and final total of losers\n",
    "print(\"Correlation between initial total of winners and final total of winners\")\n",
    "print(correlation1)\n",
    "print(\"Correlation between initial total of losers and final total of losers\")\n",
    "print(correlation2)\n",
    "        "
   ]
  },
  {
   "cell_type": "markdown",
   "metadata": {},
   "source": [
    "#### The correlation between initial and final totals depicts that initial and final totals are moderately correlated, i.e it can't be concluded that if a player has higher initial total score then he/she will have higher final score with certainity. This is evident in the above exercise as there is 0.2 proportion of total loses with initial high scores. \n",
    "#### Both correlations achieve equal value as in any game the amount with which initial score of winner increases is the same amount with which the initial score of loser decreases. Because the sum of  initial and final totals of winner and losers remain constant "
   ]
  },
  {
   "cell_type": "code",
   "execution_count": null,
   "metadata": {},
   "outputs": [],
   "source": []
  }
 ],
 "metadata": {
  "kernelspec": {
   "display_name": "Python 3",
   "language": "python",
   "name": "python3"
  },
  "language_info": {
   "codemirror_mode": {
    "name": "ipython",
    "version": 3
   },
   "file_extension": ".py",
   "mimetype": "text/x-python",
   "name": "python",
   "nbconvert_exporter": "python",
   "pygments_lexer": "ipython3",
   "version": "3.7.3"
  }
 },
 "nbformat": 4,
 "nbformat_minor": 2
}
